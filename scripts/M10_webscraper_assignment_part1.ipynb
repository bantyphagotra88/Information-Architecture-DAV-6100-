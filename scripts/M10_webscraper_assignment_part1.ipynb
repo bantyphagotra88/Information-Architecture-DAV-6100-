{
 "cells": [
  {
   "cell_type": "code",
   "execution_count": null,
   "id": "95d31a38",
   "metadata": {},
   "outputs": [],
   "source": [
    "pip install selenium # Installing selenium package that is used to automate web browser interaction from Python.\n"
   ]
  },
  {
   "cell_type": "code",
   "execution_count": null,
   "id": "d696ed25",
   "metadata": {},
   "outputs": [],
   "source": [
    "pip install awscli  # Installing awscli package provides a unified command line interface to Amazon Web Services."
   ]
  },
  {
   "cell_type": "code",
   "execution_count": null,
   "id": "2f0cdf9c",
   "metadata": {},
   "outputs": [],
   "source": [
    "pip install boto3  # This allows Python developers to write software that makes use of services like Amazon S3 and Amazon EC2."
   ]
  },
  {
   "cell_type": "code",
   "execution_count": null,
   "id": "d46c54bf",
   "metadata": {},
   "outputs": [],
   "source": [
    "pip install webdriver-manager #"
   ]
  },
  {
   "cell_type": "code",
   "execution_count": null,
   "id": "df51e2af",
   "metadata": {},
   "outputs": [],
   "source": [
    "# Loading modules\n",
    "#!pip install webdriver-manager\n",
    "import awscli\n",
    "import boto3\n",
    "import selenium\n",
    "import pandas as pd\n",
    "import time\n",
    "from time import sleep\n",
    "from selenium import webdriver\n",
    "from selenium.webdriver.common.by import By\n",
    "from selenium.webdriver.chrome.service import Service\n",
    "from webdriver_manager.chrome import ChromeDriverManager\n",
    "\n",
    "####SCRAPE THE WEBSITE######\n",
    "### Call the webdriver\n",
    "s=Service(ChromeDriverManager().install())\n",
    "browser = webdriver.Chrome(service=s)\n",
    "\n",
    "# Entering  the url path that needs to be accessed by webdriver\n",
    "browser.get('https://www.charitiesnys.com/RegistrySearch/search_charities.jsp')\n",
    "\n",
    "# Recognize xpath of location to select element\n",
    "inputElement = browser.find_element(By.XPATH,\"/html/body/div/div[2]/div/table/tbody/tr/td[2]/div/div/font/font/font/font/font/table/tbody/tr[4]/td/form/table/tbody/tr[2]/td[2]/input[1]\")\n",
    "inputElement.send_keys('0')\n",
    "inputElement1 = browser.find_element(By.XPATH,\"/html/body/div/div[2]/div/table/tbody/tr/td[2]/div/div/font/font/font/font/font/table/tbody/tr[4]/td/form/table/tbody/tr[10]/td/input[1]\").click()\n",
    "sleep(4) # Adding a sleep element that will allow for the page to load\n",
    "# Identifying the table to scrape\n",
    "table = browser.find_element(By.CSS_SELECTOR,'table.Bordered')\n",
    "sleep(1)\n",
    "#####CREATING DATE FRAME#####\n",
    "# Creating empty dataframe\n",
    "df =[]\n",
    "\n",
    "#loop through dataframe to export table\n",
    "for row in table.find_elements(By.CSS_SELECTOR,'tr'):\n",
    "      cols = df.append([cell.text for cell in row.find_elements(By.CSS_SELECTOR,'td')])\n",
    "\n",
    "\n",
    "#update dataframe with header \n",
    "df = pd.DataFrame(df, columns = [\"Organization Name\", \"NY Reg #\", \"EIN\" ,\"Registrant Type\",\"City\",\"State\"])\n",
    "display(df) #let's have a look at the data before creating the CSV file and loading it into s3\n",
    "\n"
   ]
  },
  {
   "cell_type": "code",
   "execution_count": null,
   "id": "bb0bee5c",
   "metadata": {},
   "outputs": [],
   "source": [
    "import boto3\n",
    "from botocore.exceptions import ClientError\n",
    "\n",
    "# Assigning the bucket name against the bucket variable\n",
    "bucket_name = 'm10-assignments'\n",
    "\n",
    "aws_access = input('Enter your access key')\n",
    "aws_secret = input('Enter your secret key')\n",
    "\n",
    "aws_s3_client = boto3.client('s3',\n",
    "                aws_access_key_id = aws_access,\n",
    "                aws_secret_access_key = aws_secret)\n",
    "\n",
    "# Below commented code has the access key to my AWS account. \n",
    "response = aws_s3_client.list_buckets()\n",
    "bucket_exist = False\n",
    "\n",
    "for bucket in response['Buckets']:\n",
    "    if bucket['Name'] == bucket_name:\n",
    "        bucket_exist = True\n",
    "        break\n",
    "\n",
    "if bucket_exist:\n",
    "    print(\"The bucket exists\")\n",
    "else:\n",
    "    print(\"The bucket doesn't exist\")\n",
    "\n",
    "# Create the bucket if it doesn't exist with the help of try, except block\n",
    "if not bucket_exist:\n",
    "    try:\n",
    "        aws_s3_client.create_bucket(Bucket=bucket_name)\n",
    "        print(f\"{bucket_name} bucket has been created on my AWS S3\")\n",
    "    except ClientError as e:\n",
    "        print(e)\n",
    "        print(f\"{bucket_name} bucket cannot be created on S3\")\n",
    "    except:\n",
    "        print(f\"{bucket_name} cannot be created on S3\")"
   ]
  },
  {
   "cell_type": "code",
   "execution_count": null,
   "id": "e6a7be1c",
   "metadata": {},
   "outputs": [],
   "source": [
    "from io import StringIO\n",
    "def upload_s3(df,i):\n",
    "    global aws_s3_client, bucket_name\n",
    "    csv_buffer = StringIO()\n",
    "    df.to_csv(csv_buffer, header=True, line_terminator='\\n')\n",
    "    csv_buffer.seek(0)\n",
    "    aws_s3_client.put_object(Bucket=bucket_name, Body=csv_buffer.getvalue(), Key=i)\n",
    "\n",
    "# Checking if the bucket exists\n",
    "\n",
    "response = aws_s3_client.list_buckets()\n",
    "bucket1  = [bucket['Name'] for bucket in response['bucket1']]\n",
    "if bucket_name not in bucket1:\n",
    "    print(f\"{bucket_name} bucket does not exist.\")\n",
    "else:\n",
    "    print(\"Uploading Data\")\n",
    "    upload_s3(df, filenames3)\n",
    "    print(\"Data uploaded successfully \")\n",
    "\n",
    "filename= 'charities_bureau_scrape_group1'# Name of the group\n",
    "datetime = time.strftime(\"%Y%m%d%H%M%S\") # Timestamp\n",
    "filenames3 = \"%s%s.csv\"%(filename,datetime) # Name of the filepath in S3 and csv file\n",
    "\n",
    "#print the success message\n",
    "print(\"Successfully uploaded file to location:\"+str(filenames3))"
   ]
  },
  {
   "cell_type": "code",
   "execution_count": null,
   "id": "c22bda25",
   "metadata": {},
   "outputs": [],
   "source": []
  }
 ],
 "metadata": {
  "kernelspec": {
   "display_name": "Python 3 (ipykernel)",
   "language": "python",
   "name": "python3"
  },
  "language_info": {
   "codemirror_mode": {
    "name": "ipython",
    "version": 3
   },
   "file_extension": ".py",
   "mimetype": "text/x-python",
   "name": "python",
   "nbconvert_exporter": "python",
   "pygments_lexer": "ipython3",
   "version": "3.9.12"
  }
 },
 "nbformat": 4,
 "nbformat_minor": 5
}
